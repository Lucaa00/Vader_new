{
 "cells": [
  {
   "cell_type": "code",
   "execution_count": 82,
   "metadata": {
    "colab": {
     "base_uri": "https://localhost:8080/"
    },
    "executionInfo": {
     "elapsed": 2184,
     "status": "ok",
     "timestamp": 1653217009565,
     "user": {
      "displayName": "Luca Porcelli",
      "userId": "09580591037146988201"
     },
     "user_tz": -120
    },
    "id": "mTsA5zu-qt3E",
    "outputId": "ec6397e7-02f7-4e79-fe80-2ddc39ef1030"
   },
   "outputs": [
    {
     "name": "stdout",
     "output_type": "stream",
     "text": [
      "Drive already mounted at /content/drive; to attempt to forcibly remount, call drive.mount(\"/content/drive\", force_remount=True).\n"
     ]
    }
   ],
   "source": [
    "from google.colab import drive\n",
    "drive.mount('/content/drive')"
   ]
  },
  {
   "cell_type": "code",
   "execution_count": 83,
   "metadata": {
    "executionInfo": {
     "elapsed": 21,
     "status": "ok",
     "timestamp": 1653217009568,
     "user": {
      "displayName": "Luca Porcelli",
      "userId": "09580591037146988201"
     },
     "user_tz": -120
    },
    "id": "aYihncSotNNW"
   },
   "outputs": [],
   "source": [
    "filepath = '/content/drive/MyDrive/Progetto Colab/'"
   ]
  },
  {
   "cell_type": "markdown",
   "metadata": {
    "id": "nRF8zAi7oggB"
   },
   "source": [
    "# Importazione dataset e controllo valori nulli"
   ]
  },
  {
   "cell_type": "code",
   "execution_count": 84,
   "metadata": {
    "colab": {
     "base_uri": "https://localhost:8080/",
     "height": 424
    },
    "executionInfo": {
     "elapsed": 2002,
     "status": "ok",
     "timestamp": 1653217011553,
     "user": {
      "displayName": "Luca Porcelli",
      "userId": "09580591037146988201"
     },
     "user_tz": -120
    },
    "id": "zrD7pcAHoggG",
    "outputId": "04771f97-dce1-4acc-f35c-067da2074623"
   },
   "outputs": [
    {
     "data": {
      "text/html": [
       "\n",
       "  <div id=\"df-0547ae36-4b24-456c-aa1f-397c90ec7bac\">\n",
       "    <div class=\"colab-df-container\">\n",
       "      <div>\n",
       "<style scoped>\n",
       "    .dataframe tbody tr th:only-of-type {\n",
       "        vertical-align: middle;\n",
       "    }\n",
       "\n",
       "    .dataframe tbody tr th {\n",
       "        vertical-align: top;\n",
       "    }\n",
       "\n",
       "    .dataframe thead th {\n",
       "        text-align: right;\n",
       "    }\n",
       "</style>\n",
       "<table border=\"1\" class=\"dataframe\">\n",
       "  <thead>\n",
       "    <tr style=\"text-align: right;\">\n",
       "      <th></th>\n",
       "      <th>Tipo</th>\n",
       "      <th>Score</th>\n",
       "      <th>Text</th>\n",
       "    </tr>\n",
       "  </thead>\n",
       "  <tbody>\n",
       "    <tr>\n",
       "      <th>0</th>\n",
       "      <td>Finance</td>\n",
       "      <td>Positive</td>\n",
       "      <td>'bout to pas in pps.. im in both '</td>\n",
       "    </tr>\n",
       "    <tr>\n",
       "      <th>1</th>\n",
       "      <td>Finance</td>\n",
       "      <td>Positive</td>\n",
       "      <td>'short toasting very well'</td>\n",
       "    </tr>\n",
       "    <tr>\n",
       "      <th>2</th>\n",
       "      <td>Finance</td>\n",
       "      <td>Negative</td>\n",
       "      <td>'is dead money for the rest of the year a ipho...</td>\n",
       "    </tr>\n",
       "    <tr>\n",
       "      <th>3</th>\n",
       "      <td>Finance</td>\n",
       "      <td>Positive</td>\n",
       "      <td>'already climbing pm.'</td>\n",
       "    </tr>\n",
       "    <tr>\n",
       "      <th>4</th>\n",
       "      <td>Finance</td>\n",
       "      <td>Positive</td>\n",
       "      <td>'how are yall bearish smfh'</td>\n",
       "    </tr>\n",
       "    <tr>\n",
       "      <th>...</th>\n",
       "      <td>...</td>\n",
       "      <td>...</td>\n",
       "      <td>...</td>\n",
       "    </tr>\n",
       "    <tr>\n",
       "      <th>11823</th>\n",
       "      <td>Finance</td>\n",
       "      <td>Positive</td>\n",
       "      <td>'this seems familiar ;)'</td>\n",
       "    </tr>\n",
       "    <tr>\n",
       "      <th>11824</th>\n",
       "      <td>Finance</td>\n",
       "      <td>Positive</td>\n",
       "      <td>'wow!'</td>\n",
       "    </tr>\n",
       "    <tr>\n",
       "      <th>11825</th>\n",
       "      <td>Finance</td>\n",
       "      <td>Negative</td>\n",
       "      <td>'not all stock go up. big pharma company stock...</td>\n",
       "    </tr>\n",
       "    <tr>\n",
       "      <th>11826</th>\n",
       "      <td>Finance</td>\n",
       "      <td>Positive</td>\n",
       "      <td>'bought puts.... for a credit spread '</td>\n",
       "    </tr>\n",
       "    <tr>\n",
       "      <th>11827</th>\n",
       "      <td>Finance</td>\n",
       "      <td>Positive</td>\n",
       "      <td>'august 250 call ate on fire'</td>\n",
       "    </tr>\n",
       "  </tbody>\n",
       "</table>\n",
       "<p>11828 rows × 3 columns</p>\n",
       "</div>\n",
       "      <button class=\"colab-df-convert\" onclick=\"convertToInteractive('df-0547ae36-4b24-456c-aa1f-397c90ec7bac')\"\n",
       "              title=\"Convert this dataframe to an interactive table.\"\n",
       "              style=\"display:none;\">\n",
       "        \n",
       "  <svg xmlns=\"http://www.w3.org/2000/svg\" height=\"24px\"viewBox=\"0 0 24 24\"\n",
       "       width=\"24px\">\n",
       "    <path d=\"M0 0h24v24H0V0z\" fill=\"none\"/>\n",
       "    <path d=\"M18.56 5.44l.94 2.06.94-2.06 2.06-.94-2.06-.94-.94-2.06-.94 2.06-2.06.94zm-11 1L8.5 8.5l.94-2.06 2.06-.94-2.06-.94L8.5 2.5l-.94 2.06-2.06.94zm10 10l.94 2.06.94-2.06 2.06-.94-2.06-.94-.94-2.06-.94 2.06-2.06.94z\"/><path d=\"M17.41 7.96l-1.37-1.37c-.4-.4-.92-.59-1.43-.59-.52 0-1.04.2-1.43.59L10.3 9.45l-7.72 7.72c-.78.78-.78 2.05 0 2.83L4 21.41c.39.39.9.59 1.41.59.51 0 1.02-.2 1.41-.59l7.78-7.78 2.81-2.81c.8-.78.8-2.07 0-2.86zM5.41 20L4 18.59l7.72-7.72 1.47 1.35L5.41 20z\"/>\n",
       "  </svg>\n",
       "      </button>\n",
       "      \n",
       "  <style>\n",
       "    .colab-df-container {\n",
       "      display:flex;\n",
       "      flex-wrap:wrap;\n",
       "      gap: 12px;\n",
       "    }\n",
       "\n",
       "    .colab-df-convert {\n",
       "      background-color: #E8F0FE;\n",
       "      border: none;\n",
       "      border-radius: 50%;\n",
       "      cursor: pointer;\n",
       "      display: none;\n",
       "      fill: #1967D2;\n",
       "      height: 32px;\n",
       "      padding: 0 0 0 0;\n",
       "      width: 32px;\n",
       "    }\n",
       "\n",
       "    .colab-df-convert:hover {\n",
       "      background-color: #E2EBFA;\n",
       "      box-shadow: 0px 1px 2px rgba(60, 64, 67, 0.3), 0px 1px 3px 1px rgba(60, 64, 67, 0.15);\n",
       "      fill: #174EA6;\n",
       "    }\n",
       "\n",
       "    [theme=dark] .colab-df-convert {\n",
       "      background-color: #3B4455;\n",
       "      fill: #D2E3FC;\n",
       "    }\n",
       "\n",
       "    [theme=dark] .colab-df-convert:hover {\n",
       "      background-color: #434B5C;\n",
       "      box-shadow: 0px 1px 3px 1px rgba(0, 0, 0, 0.15);\n",
       "      filter: drop-shadow(0px 1px 2px rgba(0, 0, 0, 0.3));\n",
       "      fill: #FFFFFF;\n",
       "    }\n",
       "  </style>\n",
       "\n",
       "      <script>\n",
       "        const buttonEl =\n",
       "          document.querySelector('#df-0547ae36-4b24-456c-aa1f-397c90ec7bac button.colab-df-convert');\n",
       "        buttonEl.style.display =\n",
       "          google.colab.kernel.accessAllowed ? 'block' : 'none';\n",
       "\n",
       "        async function convertToInteractive(key) {\n",
       "          const element = document.querySelector('#df-0547ae36-4b24-456c-aa1f-397c90ec7bac');\n",
       "          const dataTable =\n",
       "            await google.colab.kernel.invokeFunction('convertToInteractive',\n",
       "                                                     [key], {});\n",
       "          if (!dataTable) return;\n",
       "\n",
       "          const docLinkHtml = 'Like what you see? Visit the ' +\n",
       "            '<a target=\"_blank\" href=https://colab.research.google.com/notebooks/data_table.ipynb>data table notebook</a>'\n",
       "            + ' to learn more about interactive tables.';\n",
       "          element.innerHTML = '';\n",
       "          dataTable['output_type'] = 'display_data';\n",
       "          await google.colab.output.renderOutput(dataTable, element);\n",
       "          const docLink = document.createElement('div');\n",
       "          docLink.innerHTML = docLinkHtml;\n",
       "          element.appendChild(docLink);\n",
       "        }\n",
       "      </script>\n",
       "    </div>\n",
       "  </div>\n",
       "  "
      ],
      "text/plain": [
       "          Tipo     Score                                               Text\n",
       "0      Finance  Positive                 'bout to pas in pps.. im in both '\n",
       "1      Finance  Positive                         'short toasting very well'\n",
       "2      Finance  Negative  'is dead money for the rest of the year a ipho...\n",
       "3      Finance  Positive                             'already climbing pm.'\n",
       "4      Finance  Positive                        'how are yall bearish smfh'\n",
       "...        ...       ...                                                ...\n",
       "11823  Finance  Positive                           'this seems familiar ;)'\n",
       "11824  Finance  Positive                                             'wow!'\n",
       "11825  Finance  Negative  'not all stock go up. big pharma company stock...\n",
       "11826  Finance  Positive             'bought puts.... for a credit spread '\n",
       "11827  Finance  Positive                      'august 250 call ate on fire'\n",
       "\n",
       "[11828 rows x 3 columns]"
      ]
     },
     "execution_count": 84,
     "metadata": {},
     "output_type": "execute_result"
    }
   ],
   "source": [
    "import pandas as pd\n",
    "df = pd.read_excel(filepath+'data/Finance.xlsx')\n",
    "df"
   ]
  },
  {
   "cell_type": "code",
   "execution_count": 85,
   "metadata": {
    "colab": {
     "base_uri": "https://localhost:8080/"
    },
    "executionInfo": {
     "elapsed": 55,
     "status": "ok",
     "timestamp": 1653217011557,
     "user": {
      "displayName": "Luca Porcelli",
      "userId": "09580591037146988201"
     },
     "user_tz": -120
    },
    "id": "zX4i6ZQZoggI",
    "outputId": "5c154625-4636-4657-9dd7-a3a6602d1e50"
   },
   "outputs": [
    {
     "data": {
      "text/plain": [
       "Tipo     0\n",
       "Score    0\n",
       "Text     0\n",
       "dtype: int64"
      ]
     },
     "execution_count": 85,
     "metadata": {},
     "output_type": "execute_result"
    }
   ],
   "source": [
    "df.isna().sum()"
   ]
  },
  {
   "cell_type": "code",
   "execution_count": 86,
   "metadata": {
    "colab": {
     "base_uri": "https://localhost:8080/"
    },
    "executionInfo": {
     "elapsed": 54,
     "status": "ok",
     "timestamp": 1653217011563,
     "user": {
      "displayName": "Luca Porcelli",
      "userId": "09580591037146988201"
     },
     "user_tz": -120
    },
    "id": "G5NnGQggoggJ",
    "outputId": "80988459-99fd-4966-f961-a1e737499260"
   },
   "outputs": [
    {
     "data": {
      "text/plain": [
       "Positive    8485\n",
       "Negative    3343\n",
       "Name: Score, dtype: int64"
      ]
     },
     "execution_count": 86,
     "metadata": {},
     "output_type": "execute_result"
    }
   ],
   "source": [
    "df.Score.value_counts()"
   ]
  },
  {
   "cell_type": "markdown",
   "metadata": {
    "id": "RpGX9V0voggK"
   },
   "source": [
    "### Rimozione NaN e split X e y"
   ]
  },
  {
   "cell_type": "code",
   "execution_count": 87,
   "metadata": {
    "colab": {
     "base_uri": "https://localhost:8080/",
     "height": 53
    },
    "executionInfo": {
     "elapsed": 50,
     "status": "ok",
     "timestamp": 1653217011566,
     "user": {
      "displayName": "Luca Porcelli",
      "userId": "09580591037146988201"
     },
     "user_tz": -120
    },
    "id": "s2jgDzteoggL",
    "outputId": "c2f11f18-1374-4cea-e1e8-bc484ba0c484"
   },
   "outputs": [
    {
     "data": {
      "application/vnd.google.colaboratory.intrinsic+json": {
       "type": "string"
      },
      "text/plain": [
       "'23 April 2010 - Finnish construction and engineering company Outotec Oyj HEL : OTE1V said today it slipped to a net loss of EUR7 .3 m in the first quarter of 2010 from a net profit of EUR12 .5 m in the corresponding period last year .'"
      ]
     },
     "execution_count": 87,
     "metadata": {},
     "output_type": "execute_result"
    }
   ],
   "source": [
    "df_not_na = df[~(df['Text'].isna())]\n",
    "raw_text = df_not_na['Text']\n",
    "#assegno i valori alla mia y\n",
    "y = df_not_na['Score'].tolist()\n",
    "raw_text[5]"
   ]
  },
  {
   "cell_type": "markdown",
   "metadata": {
    "id": "F5dHqfz1oggM"
   },
   "source": [
    "### Lowercase, Remove punctuation, Tokenize, Lemmatization"
   ]
  },
  {
   "cell_type": "code",
   "execution_count": 88,
   "metadata": {
    "colab": {
     "base_uri": "https://localhost:8080/"
    },
    "executionInfo": {
     "elapsed": 51,
     "status": "ok",
     "timestamp": 1653217011571,
     "user": {
      "displayName": "Luca Porcelli",
      "userId": "09580591037146988201"
     },
     "user_tz": -120
    },
    "id": "GZ-temWpq98c",
    "outputId": "5f017f9f-85bc-4537-d071-17fc19c0b7ff"
   },
   "outputs": [
    {
     "name": "stdout",
     "output_type": "stream",
     "text": [
      "[nltk_data] Downloading package wordnet to /root/nltk_data...\n",
      "[nltk_data]   Package wordnet is already up-to-date!\n"
     ]
    },
    {
     "data": {
      "text/plain": [
       "True"
      ]
     },
     "execution_count": 88,
     "metadata": {},
     "output_type": "execute_result"
    }
   ],
   "source": [
    "import nltk\n",
    "nltk.download('wordnet')"
   ]
  },
  {
   "cell_type": "code",
   "execution_count": 89,
   "metadata": {
    "colab": {
     "base_uri": "https://localhost:8080/",
     "height": 53
    },
    "executionInfo": {
     "elapsed": 783,
     "status": "ok",
     "timestamp": 1653217012308,
     "user": {
      "displayName": "Luca Porcelli",
      "userId": "09580591037146988201"
     },
     "user_tz": -120
    },
    "id": "C-Bi0cWtoggN",
    "outputId": "b6a7f825-7000-4436-c139-40e6ce66c8c0"
   },
   "outputs": [
    {
     "name": "stdout",
     "output_type": "stream",
     "text": [
      "['bout', 'to', 'pa', 'in', 'pps', 'im', 'in', 'both']\n"
     ]
    },
    {
     "data": {
      "application/vnd.google.colaboratory.intrinsic+json": {
       "type": "string"
      },
      "text/plain": [
       "'short toasting very well'"
      ]
     },
     "execution_count": 89,
     "metadata": {},
     "output_type": "execute_result"
    }
   ],
   "source": [
    "from tqdm import tqdm\n",
    "from nltk.stem import WordNetLemmatizer\n",
    "lemmatizer = WordNetLemmatizer()\n",
    "\n",
    "text = raw_text.str.lower().str.replace('[^\\w\\s\\d]',' ', regex=True) # \\d tiene anche i caratteri numerici\n",
    "text = text.str.split()\n",
    "text = text.apply(lambda x: [lemmatizer.lemmatize(sent) for sent in x])\n",
    "for row in text:\n",
    "    [row.remove(i) for i in row if len(i) < 2]\n",
    "print(text[0])\n",
    "train_sentences = []\n",
    "for row in text:\n",
    "    train_sentences.append(' '.join([item for item in row ]))\n",
    "train_sentences[1]"
   ]
  },
  {
   "cell_type": "markdown",
   "metadata": {
    "id": "eq358YTtjK0u"
   },
   "source": [
    "### BoW"
   ]
  },
  {
   "cell_type": "code",
   "execution_count": 90,
   "metadata": {
    "colab": {
     "base_uri": "https://localhost:8080/"
    },
    "executionInfo": {
     "elapsed": 555,
     "status": "ok",
     "timestamp": 1653217012839,
     "user": {
      "displayName": "Luca Porcelli",
      "userId": "09580591037146988201"
     },
     "user_tz": -120
    },
    "id": "frLhe8IXh9xN",
    "outputId": "1de81401-f63b-41c8-ac35-42d4881e3472"
   },
   "outputs": [
    {
     "name": "stderr",
     "output_type": "stream",
     "text": [
      "/usr/local/lib/python3.7/dist-packages/sklearn/utils/deprecation.py:87: FutureWarning: Function get_feature_names is deprecated; get_feature_names is deprecated in 1.0 and will be removed in 1.2. Please use get_feature_names_out instead.\n",
      "  warnings.warn(msg, category=FutureWarning)\n"
     ]
    }
   ],
   "source": [
    "import numpy as np\n",
    "from sklearn.feature_extraction.text import CountVectorizer, TfidfVectorizer\n",
    "#n_gram da 1 a 1, quindi mono gram, imposto 2000 features, quindi si ferma alle 2000 parole piu frequenti\n",
    "vectorizer = CountVectorizer(ngram_range=(1, 1), max_features=2000)\n",
    "X = vectorizer.fit_transform(train_sentences)\n",
    "\n",
    "#salva in un dizionario i nomi delle features, associando a un codice\n",
    "feature_names = vectorizer.get_feature_names()\n",
    "X = X.toarray()\n",
    "X = np.array(X)\n",
    "y = np.array(y)"
   ]
  },
  {
   "cell_type": "markdown",
   "metadata": {
    "id": "CIbqNLGCsdfW"
   },
   "source": [
    "# Modello di classificazione"
   ]
  },
  {
   "cell_type": "markdown",
   "metadata": {
    "id": "811Aq_lpoggR"
   },
   "source": [
    "### Creazione train/test"
   ]
  },
  {
   "cell_type": "code",
   "execution_count": 91,
   "metadata": {
    "executionInfo": {
     "elapsed": 23,
     "status": "ok",
     "timestamp": 1653217012840,
     "user": {
      "displayName": "Luca Porcelli",
      "userId": "09580591037146988201"
     },
     "user_tz": -120
    },
    "id": "CWvG9sTnoggS"
   },
   "outputs": [],
   "source": [
    "from sklearn.model_selection import train_test_split\n",
    "\n",
    "x_train, x_test, y_train, y_test = train_test_split(X, y, stratify=y, test_size=0.3, random_state=42)"
   ]
  },
  {
   "cell_type": "markdown",
   "metadata": {
    "id": "ZljvaWdTnTl-"
   },
   "source": [
    "### Grid Search Naive bayes"
   ]
  },
  {
   "cell_type": "code",
   "execution_count": 92,
   "metadata": {
    "colab": {
     "base_uri": "https://localhost:8080/",
     "height": 70
    },
    "executionInfo": {
     "elapsed": 26,
     "status": "ok",
     "timestamp": 1653217012844,
     "user": {
      "displayName": "Luca Porcelli",
      "userId": "09580591037146988201"
     },
     "user_tz": -120
    },
    "id": "8JKooBimouGE",
    "outputId": "909474de-26f5-4a52-bf51-b6072766e1ad"
   },
   "outputs": [
    {
     "data": {
      "application/vnd.google.colaboratory.intrinsic+json": {
       "type": "string"
      },
      "text/plain": [
       "\"\\nfrom sklearn.model_selection import GridSearchCV\\nfrom sklearn.naive_bayes import MultinomialNB\\nparams = {'alpha': [0.01, 0.05, 0.1, 0.2, 0.5, 1.0, 10.0, ],}\\n\\nmultinomial_nb_grid = GridSearchCV(MultinomialNB(), param_grid=params, n_jobs=-1, cv=5, verbose=5)\\nmultinomial_nb_grid.fit(x_train,y_train)\\n\\nprint('Best Accuracy Through Grid Search : %.3f'%multinomial_nb_grid.best_score_)\\nprint('Best Parameters : ',multinomial_nb_grid.best_params_)\\n\""
      ]
     },
     "execution_count": 92,
     "metadata": {},
     "output_type": "execute_result"
    }
   ],
   "source": [
    "#Questa griglia ci permette di determinare i migliori parametri di tuning\n",
    "#Il Naive bayes non è scelto per il progetto\n",
    "# Best Accuracy : 0.853, 'alpha': 1.0 Cibo\n",
    "# Best Accuracy : 0.754, 'alpha': 0.5 Finance\n",
    "# Best Accuracy : 0.861, 'alpha': 10.0 Disneyland\n",
    "# Best Accuracy : 0.855, 'alpha': 10.0 Electronic\n",
    "\n",
    "'''\n",
    "from sklearn.model_selection import GridSearchCV\n",
    "from sklearn.naive_bayes import MultinomialNB\n",
    "params = {'alpha': [0.01, 0.05, 0.1, 0.2, 0.5, 1.0, 10.0, ],}\n",
    "\n",
    "multinomial_nb_grid = GridSearchCV(MultinomialNB(), param_grid=params, n_jobs=-1, cv=5, verbose=5)\n",
    "multinomial_nb_grid.fit(x_train,y_train)\n",
    "\n",
    "print('Best Accuracy Through Grid Search : %.3f'%multinomial_nb_grid.best_score_)\n",
    "print('Best Parameters : ',multinomial_nb_grid.best_params_)\n",
    "'''"
   ]
  },
  {
   "cell_type": "markdown",
   "metadata": {
    "id": "qu7tfe7qsj4C"
   },
   "source": [
    "### Grid Search Random Forest"
   ]
  },
  {
   "cell_type": "code",
   "execution_count": 93,
   "metadata": {
    "colab": {
     "base_uri": "https://localhost:8080/",
     "height": 123
    },
    "executionInfo": {
     "elapsed": 27,
     "status": "ok",
     "timestamp": 1653217012847,
     "user": {
      "displayName": "Luca Porcelli",
      "userId": "09580591037146988201"
     },
     "user_tz": -120
    },
    "id": "kWe0W6oCgdgy",
    "outputId": "b22d4392-3134-4015-a0ee-c021d1f36833"
   },
   "outputs": [
    {
     "data": {
      "application/vnd.google.colaboratory.intrinsic+json": {
       "type": "string"
      },
      "text/plain": [
       "'\\nfrom sklearn.ensemble import RandomForestClassifier\\nfrom sklearn.model_selection import GridSearchCV\\nfrom sklearn import svm\\n\\n#cross_validated_grid_search for Random Forest\\n\\nmodel = RandomForestClassifier()\\nparam_grid = {\\'n_estimators\\': [200, 300],#numero di alberi\\n               \\'criterion\\': [\\'gini\\', \\'entropy\\'],#purezza misurata con gini e entropia\\n               \\'max_depth\\': [None, 5, 10], #profondità massima dell\\'albero\\n               \\'min_samples_split\\': [2, 10, 20]} #Il numero minimo di campioni necessari per dividere un nodo interno\\n\\ngrid = GridSearchCV(estimator = model, param_grid = param_grid, cv=3, verbose=2, n_jobs=-1)#default è accuracy\\n# Fit the random search model\\n%time grid_result = grid.fit(x_train, y_train)\\n\\n#print grid search results\\nprint(\"Best: %f using %s\" % (grid_result.best_score_, grid_result.best_params_))\\nmeans = grid_result.cv_results_[\\'mean_test_score\\']\\nstds = grid_result.cv_results_[\\'std_test_score\\']\\nparams = grid_result.cv_results_[\\'params\\']\\nfor mean, stdev, param in zip(means, stds, params):\\n    print(\"%f (%f) with: %r\" % (mean, stdev, param))\\n'"
      ]
     },
     "execution_count": 93,
     "metadata": {},
     "output_type": "execute_result"
    }
   ],
   "source": [
    "#Utilizzare solo in caso di necessità (tempi molto lunghi)\n",
    "#Questa griglia ci permette di determinare i migliori parametri di tuning\n",
    "#Best: 0.821146 using {'criterion': 'gini', 'max_depth': None, 'min_samples_split': 2, 'n_estimators': 300} Cibo\n",
    "#Best: 0.787776 using {'criterion': 'entropy', 'max_depth': None, 'min_samples_split': 10, 'n_estimators': 200} Finance\n",
    "#Best: 0.821431 using {'criterion': 'gini', 'max_depth': None, 'min_samples_split': 2, 'n_estimators': 300} Disneyland\n",
    "#Best: 0.869970 using {'criterion': 'entropy', 'max_depth': None, 'min_samples_split': 10, 'n_estimators': 300} Electronic\n",
    "'''\n",
    "from sklearn.ensemble import RandomForestClassifier\n",
    "from sklearn.model_selection import GridSearchCV\n",
    "from sklearn import svm\n",
    "\n",
    "#cross_validated_grid_search for Random Forest\n",
    "\n",
    "model = RandomForestClassifier()\n",
    "param_grid = {'n_estimators': [200, 300],#numero di alberi\n",
    "               'criterion': ['gini', 'entropy'],#purezza misurata con gini e entropia\n",
    "               'max_depth': [None, 5, 10], #profondità massima dell'albero\n",
    "               'min_samples_split': [2, 10, 20]} #Il numero minimo di campioni necessari per dividere un nodo interno\n",
    "\n",
    "grid = GridSearchCV(estimator = model, param_grid = param_grid, cv=3, verbose=2, n_jobs=-1)#default è accuracy\n",
    "# Fit the random search model\n",
    "%time grid_result = grid.fit(x_train, y_train)\n",
    "\n",
    "#print grid search results\n",
    "print(\"Best: %f using %s\" % (grid_result.best_score_, grid_result.best_params_))\n",
    "means = grid_result.cv_results_['mean_test_score']\n",
    "stds = grid_result.cv_results_['std_test_score']\n",
    "params = grid_result.cv_results_['params']\n",
    "for mean, stdev, param in zip(means, stds, params):\n",
    "    print(\"%f (%f) with: %r\" % (mean, stdev, param))\n",
    "'''"
   ]
  },
  {
   "cell_type": "markdown",
   "metadata": {
    "id": "Epx890xosqwL"
   },
   "source": [
    "### Modello migliore per modello surrogato"
   ]
  },
  {
   "cell_type": "code",
   "execution_count": 94,
   "metadata": {
    "executionInfo": {
     "elapsed": 80253,
     "status": "ok",
     "timestamp": 1653217093075,
     "user": {
      "displayName": "Luca Porcelli",
      "userId": "09580591037146988201"
     },
     "user_tz": -120
    },
    "id": "WxIo1r_lzUq3"
   },
   "outputs": [],
   "source": [
    "from tqdm import tqdm\n",
    "from sklearn.ensemble import RandomForestClassifier\n",
    "from sklearn.naive_bayes import MultinomialNB\n",
    "from sklearn.metrics import classification_report\n",
    "\n",
    "#Modello RF\n",
    "#model = RandomForestClassifier(criterion= 'gini', max_depth= None, min_samples_split= 2, n_estimators= 300) #cibo e Disneyland\n",
    "#model = RandomForestClassifier(criterion= 'entropy', max_depth= None, min_samples_split= 10, n_estimators= 300) #Electronic\n",
    "model = RandomForestClassifier(criterion= 'entropy', max_depth= None, min_samples_split= 10, n_estimators= 200) #Finance\n",
    "\n",
    "model.fit(X,y)\n",
    "predicted = model.predict(X)"
   ]
  },
  {
   "cell_type": "code",
   "execution_count": 95,
   "metadata": {
    "executionInfo": {
     "elapsed": 75,
     "status": "ok",
     "timestamp": 1653217093080,
     "user": {
      "displayName": "Luca Porcelli",
      "userId": "09580591037146988201"
     },
     "user_tz": -120
    },
    "id": "QVyxjIaAHegr"
   },
   "outputs": [],
   "source": [
    "import pandas as pd\n",
    "import numpy as np\n",
    "\n",
    "RF = pd.DataFrame(list(zip(X,predicted)), columns = ['testo','score'])"
   ]
  },
  {
   "cell_type": "markdown",
   "metadata": {
    "id": "vQJn0ynHoggS"
   },
   "source": [
    "### Modello surrogato per assegnazione pesi"
   ]
  },
  {
   "cell_type": "code",
   "execution_count": 96,
   "metadata": {
    "executionInfo": {
     "elapsed": 16,
     "status": "ok",
     "timestamp": 1653217093081,
     "user": {
      "displayName": "Luca Porcelli",
      "userId": "09580591037146988201"
     },
     "user_tz": -120
    },
    "id": "EiL7Cdv8Vymm"
   },
   "outputs": [],
   "source": [
    "X = RF['testo'].tolist()\n",
    "y = RF['score'].tolist()\n",
    "\n",
    "X = np.array(X)\n",
    "y = np.array(y)"
   ]
  },
  {
   "cell_type": "code",
   "execution_count": 97,
   "metadata": {
    "colab": {
     "base_uri": "https://localhost:8080/"
    },
    "executionInfo": {
     "elapsed": 4061,
     "status": "ok",
     "timestamp": 1653217097127,
     "user": {
      "displayName": "Luca Porcelli",
      "userId": "09580591037146988201"
     },
     "user_tz": -120
    },
    "id": "S_ClrLhWoggS",
    "outputId": "12648141-f5ee-4f32-e76e-3fd78e521509"
   },
   "outputs": [
    {
     "name": "stderr",
     "output_type": "stream",
     "text": [
      "/usr/local/lib/python3.7/dist-packages/sklearn/linear_model/_logistic.py:818: ConvergenceWarning: lbfgs failed to converge (status=1):\n",
      "STOP: TOTAL NO. of ITERATIONS REACHED LIMIT.\n",
      "\n",
      "Increase the number of iterations (max_iter) or scale the data as shown in:\n",
      "    https://scikit-learn.org/stable/modules/preprocessing.html\n",
      "Please also refer to the documentation for alternative solver options:\n",
      "    https://scikit-learn.org/stable/modules/linear_model.html#logistic-regression\n",
      "  extra_warning_msg=_LOGISTIC_SOLVER_CONVERGENCE_MSG,\n"
     ]
    }
   ],
   "source": [
    "from tqdm import tqdm\n",
    "from sklearn.metrics import classification_report\n",
    "from sklearn.linear_model import LogisticRegression\n",
    "\n",
    "model = LogisticRegression(class_weight=None)\n",
    "\n",
    "model.fit(X, y)\n",
    "\n",
    "pred = model.predict(X)"
   ]
  },
  {
   "cell_type": "markdown",
   "metadata": {
    "id": "Y_Mh3KMLj1Wk"
   },
   "source": [
    "# Comprensione pesi e assegnazione punteggio"
   ]
  },
  {
   "cell_type": "code",
   "execution_count": 98,
   "metadata": {
    "colab": {
     "base_uri": "https://localhost:8080/",
     "height": 352
    },
    "executionInfo": {
     "elapsed": 33,
     "status": "ok",
     "timestamp": 1653217097128,
     "user": {
      "displayName": "Luca Porcelli",
      "userId": "09580591037146988201"
     },
     "user_tz": -120
    },
    "id": "ndBd7K0vdei5",
    "outputId": "f14237a1-b61c-41d5-d1ed-723f780b69c8"
   },
   "outputs": [
    {
     "data": {
      "text/plain": [
       "(array([  3.,   7.,  18.,  61., 250., 670., 700., 248.,  35.,   8.]),\n",
       " array([-3.55765728, -2.96328198, -2.36890668, -1.77453138, -1.18015608,\n",
       "        -0.58578077,  0.00859453,  0.60296983,  1.19734513,  1.79172043,\n",
       "         2.38609573]),\n",
       " <a list of 10 Patch objects>)"
      ]
     },
     "execution_count": 98,
     "metadata": {},
     "output_type": "execute_result"
    },
    {
     "data": {
      "image/png": "[encoded data removed]",
      "text/plain": [
       "<Figure size 432x288 with 1 Axes>"
      ]
     },
     "metadata": {
      "needs_background": "light"
     },
     "output_type": "display_data"
    }
   ],
   "source": [
    "coef=model.coef_#valori coefficiente\n",
    "#feature_names sono le parole associate ai coefficiente\n",
    "\n",
    "#Distribuzione coefficiente\n",
    "import matplotlib\n",
    "import matplotlib.pyplot as pp\n",
    "pp.hist(coef[0])"
   ]
  },
  {
   "cell_type": "markdown",
   "metadata": {
    "id": "7St67s5q4qUP"
   },
   "source": [
    "### Tecnica 1"
   ]
  },
  {
   "cell_type": "code",
   "execution_count": 99,
   "metadata": {
    "colab": {
     "base_uri": "https://localhost:8080/",
     "height": 122
    },
    "executionInfo": {
     "elapsed": 484,
     "status": "ok",
     "timestamp": 1653217097595,
     "user": {
      "displayName": "Luca Porcelli",
      "userId": "09580591037146988201"
     },
     "user_tz": -120
    },
    "id": "MtsDGvm03OYt",
    "outputId": "21d5fdfd-ddee-4e55-ee91-399e34d663f9"
   },
   "outputs": [
    {
     "data": {
      "application/vnd.google.colaboratory.intrinsic+json": {
       "type": "string"
      },
      "text/plain": [
       "'\\ndf1 = pd.DataFrame({\"Coeff\":coef[0],\"Parola\":feature_names,\"Punteggio\":0})\\ndf1.sort_values(by=[\"Coeff\"], ascending = False, inplace = True)\\nfor i in range(len(df1)):\\n  if df1.Coeff[i]>2: #coefficiente maggiore di 2, punteggio 4\\n    df1.Punteggio[i]=4\\n  elif df1.Coeff[i]>1.5: #coefficiente maggiore di 1.5, punteggio 3.5\\n    df1.Punteggio[i]=3.5\\n  elif df1.Coeff[i]>1: #coefficiente maggiore di 1, punteggio 3\\n    df1.Punteggio[i]=3\\n  elif df1.Coeff[i]>.5: #coefficiente maggiore di 0.5, punteggio 2.5\\n    df1.Punteggio[i]=2.5\\n  elif df1.Coeff[i]<-.5: #coefficiente minore di -0.5, punteggio -2.5\\n    df1.Punteggio[i]=-2.5\\n  elif df1.Coeff[i]<-1: #coefficiente minore di -1, punteggio -3\\n    df1.Punteggio[i]=-3\\n  elif df1.Coeff[i]<-1.5: #coefficiente minore di -1.5, punteggio -3.5\\n    df1.Punteggio[i]=-3.5\\n  elif df1.Coeff[i]<-2: #coefficiente minore di -2, punteggio -4\\n    df1.Punteggio[i]=-4\\n  else:\\n    df1.drop(i, inplace=True) \\n'"
      ]
     },
     "execution_count": 99,
     "metadata": {},
     "output_type": "execute_result"
    }
   ],
   "source": [
    "'''\n",
    "df1 = pd.DataFrame({\"Coeff\":coef[0],\"Parola\":feature_names,\"Punteggio\":0})\n",
    "df1.sort_values(by=[\"Coeff\"], ascending = False, inplace = True)\n",
    "for i in range(len(df1)):\n",
    "  if df1.Coeff[i]>2: #coefficiente maggiore di 2, punteggio 4\n",
    "    df1.Punteggio[i]=4\n",
    "  elif df1.Coeff[i]>1.5: #coefficiente maggiore di 1.5, punteggio 3.5\n",
    "    df1.Punteggio[i]=3.5\n",
    "  elif df1.Coeff[i]>1: #coefficiente maggiore di 1, punteggio 3\n",
    "    df1.Punteggio[i]=3\n",
    "  elif df1.Coeff[i]>.5: #coefficiente maggiore di 0.5, punteggio 2.5\n",
    "    df1.Punteggio[i]=2.5\n",
    "  elif df1.Coeff[i]<-.5: #coefficiente minore di -0.5, punteggio -2.5\n",
    "    df1.Punteggio[i]=-2.5\n",
    "  elif df1.Coeff[i]<-1: #coefficiente minore di -1, punteggio -3\n",
    "    df1.Punteggio[i]=-3\n",
    "  elif df1.Coeff[i]<-1.5: #coefficiente minore di -1.5, punteggio -3.5\n",
    "    df1.Punteggio[i]=-3.5\n",
    "  elif df1.Coeff[i]<-2: #coefficiente minore di -2, punteggio -4\n",
    "    df1.Punteggio[i]=-4\n",
    "  else:\n",
    "    df1.drop(i, inplace=True) \n",
    "'''"
   ]
  },
  {
   "cell_type": "markdown",
   "metadata": {
    "id": "3yU9Tieu4wBj"
   },
   "source": [
    "### Tecnica 2 (vincente)"
   ]
  },
  {
   "cell_type": "code",
   "execution_count": 100,
   "metadata": {
    "colab": {
     "base_uri": "https://localhost:8080/"
    },
    "executionInfo": {
     "elapsed": 952,
     "status": "ok",
     "timestamp": 1653217098530,
     "user": {
      "displayName": "Luca Porcelli",
      "userId": "09580591037146988201"
     },
     "user_tz": -120
    },
    "id": "8H9j8o7BMPCD",
    "outputId": "14c0aa49-ac97-4ef4-f783-a504be2eae8e"
   },
   "outputs": [
    {
     "name": "stderr",
     "output_type": "stream",
     "text": [
      "/usr/local/lib/python3.7/dist-packages/ipykernel_launcher.py:5: SettingWithCopyWarning: \n",
      "A value is trying to be set on a copy of a slice from a DataFrame\n",
      "\n",
      "See the caveats in the documentation: https://pandas.pydata.org/pandas-docs/stable/user_guide/indexing.html#returning-a-view-versus-a-copy\n",
      "  \"\"\"\n",
      "/usr/local/lib/python3.7/dist-packages/ipykernel_launcher.py:7: SettingWithCopyWarning: \n",
      "A value is trying to be set on a copy of a slice from a DataFrame\n",
      "\n",
      "See the caveats in the documentation: https://pandas.pydata.org/pandas-docs/stable/user_guide/indexing.html#returning-a-view-versus-a-copy\n",
      "  import sys\n"
     ]
    }
   ],
   "source": [
    "df1 = pd.DataFrame({\"Coeff\":coef[0],\"Parola\":feature_names,\"Punteggio\":0})\n",
    "df1.sort_values(by=[\"Coeff\"], ascending = False, inplace = True)\n",
    "for i in range(len(df1)):\n",
    "  if df1.Coeff[i]>0.6: #coefficiente maggiore di 0.6, punteggio 4\n",
    "    df1.Punteggio[i]=4\n",
    "  elif df1.Coeff[i]<-0.6: #coefficiente minore di -0.6, punteggio -4\n",
    "    df1.Punteggio[i]=-4\n",
    "  else:\n",
    "    df1.drop(i, inplace=True) "
   ]
  },
  {
   "cell_type": "markdown",
   "metadata": {
    "id": "lI0g1xCz5BvT"
   },
   "source": [
    "### Tecnica 3"
   ]
  },
  {
   "cell_type": "code",
   "execution_count": 101,
   "metadata": {
    "colab": {
     "base_uri": "https://localhost:8080/",
     "height": 88
    },
    "executionInfo": {
     "elapsed": 36,
     "status": "ok",
     "timestamp": 1653217098544,
     "user": {
      "displayName": "Luca Porcelli",
      "userId": "09580591037146988201"
     },
     "user_tz": -120
    },
    "id": "PlwStQGA5FvO",
    "outputId": "4728e955-9b01-4d16-d72f-02900c58b62d"
   },
   "outputs": [
    {
     "data": {
      "application/vnd.google.colaboratory.intrinsic+json": {
       "type": "string"
      },
      "text/plain": [
       "'\\ndf1 = pd.DataFrame({\"Coeff\":coef[0],\"Parola\":feature_names,\"Punteggio\":0})\\ndf1.sort_values(by=[\"Coeff\"], ascending = False, inplace = True)\\nfor i in range(len(df1)):\\n  if df1.Coeff[i]>1: #coefficiente maggiore di 1, punteggio 4\\n    df1.Punteggio[i]=4\\n  elif df1.Coeff[i]>.5: #coefficiente maggiore di 0.5, punteggio 3\\n    df1.Punteggio[i]=3\\n  elif df1.Coeff[i]<-.5: #coefficiente minore di -0.5, punteggio -3\\n    df1.Punteggio[i]=-3\\n  elif df1.Coeff[i]<-1: #coefficiente minore di -1, punteggio -4\\n    df1.Punteggio[i]=-4\\n  else:\\n    df1.drop(i, inplace=True) \\n'"
      ]
     },
     "execution_count": 101,
     "metadata": {},
     "output_type": "execute_result"
    }
   ],
   "source": [
    "'''\n",
    "df1 = pd.DataFrame({\"Coeff\":coef[0],\"Parola\":feature_names,\"Punteggio\":0})\n",
    "df1.sort_values(by=[\"Coeff\"], ascending = False, inplace = True)\n",
    "for i in range(len(df1)):\n",
    "  if df1.Coeff[i]>1: #coefficiente maggiore di 1, punteggio 4\n",
    "    df1.Punteggio[i]=4\n",
    "  elif df1.Coeff[i]>.5: #coefficiente maggiore di 0.5, punteggio 3\n",
    "    df1.Punteggio[i]=3\n",
    "  elif df1.Coeff[i]<-.5: #coefficiente minore di -0.5, punteggio -3\n",
    "    df1.Punteggio[i]=-3\n",
    "  elif df1.Coeff[i]<-1: #coefficiente minore di -1, punteggio -4\n",
    "    df1.Punteggio[i]=-4\n",
    "  else:\n",
    "    df1.drop(i, inplace=True) \n",
    "'''"
   ]
  },
  {
   "cell_type": "markdown",
   "metadata": {
    "id": "QWNmCLmzxhTR"
   },
   "source": [
    "##Creazione dizionario"
   ]
  },
  {
   "cell_type": "code",
   "execution_count": 102,
   "metadata": {
    "colab": {
     "base_uri": "https://localhost:8080/"
    },
    "executionInfo": {
     "elapsed": 33,
     "status": "ok",
     "timestamp": 1653217098545,
     "user": {
      "displayName": "Luca Porcelli",
      "userId": "09580591037146988201"
     },
     "user_tz": -120
    },
    "id": "g4doiSNxUtqQ",
    "outputId": "006a41fc-a55f-4a3e-d820-d9c232021bb6"
   },
   "outputs": [
    {
     "name": "stdout",
     "output_type": "stream",
     "text": [
      "{'rose': 4, 'increase': 4, 'green': 4, 'positive': 4, 'load': 4, 'higher': 4, 'doubled': 4, 'vulture': 4, 'increased': 4, 'having': 4, 'squeeze': 4, 'grew': 4, 'example': 4, 'bear': 4, 'improved': 4, 'dip': 4, 'cover': 4, 'base': 4, 'spread': 4, 'rocket': 4, 'business': 4, 'nio': 4, 'narrowed': 4, 'uptrend': 4, 'offer': 4, '2b': 4, 'nicely': 4, 'baba': 4, 'launch': 4, 'everyday': 4, 'favorite': 4, 'auto': 4, 'panic': 4, 'live': 4, 'electric': 4, 'signed': 4, 'division': 4, 'solid': 4, 'planning': 4, 'clothing': 4, 'leap': 4, 'folk': 4, 'scared': 4, 'buy': 4, 'call': 4, 'consolidation': 4, 'sept': 4, 'stated': 4, 'action': 4, 'spike': 4, 'youre': 4, 'awarded': 4, 'up': 4, 'repeat': 4, 'hey': 4, 'cnbc': 4, '02': 4, 'video': 4, 'recycling': 4, 'we': 4, 'congrats': 4, 'expand': 4, 'missed': 4, 'understand': 4, 'rise': 4, 'run': 4, 'ill': 4, 'ol': 4, 'maker': 4, 'posting': 4, '46': 4, 'agreement': 4, 'vietnam': 4, '250': 4, 'above': 4, 'patient': 4, 'covering': 4, 'upgrade': 4, 'hoping': 4, '2050': 4, 'cross': 4, 'aim': 4, 'become': 4, 'lunch': 4, 'plus': 4, 'oy': 4, 'aws': 4, 'eoy': 4, 'region': 4, 'goal': 4, 'completed': 4, '2016': 4, 'talk': 4, 'solution': 4, 'later': 4, 'thank': 4, 'player': 4, 'bring': 4, 'turned': 4, 'table': 4, 'vincent': 4, 'dd': 4, 'presentation': 4, 'grow': 4, 'betting': 4, 'order': 4, 'hour': 4, 'meeting': 4, 'ever': 4, 'hopefully': 4, 'upcoming': 4, 'oversold': 4, 'mm': 4, 'nine': 4, 'fly': 4, 'shorty': 4, 'pushing': 4, 'mostly': 4, 'partnership': 4, 'im': 4, 'lotto': 4, 'partner': 4, 'upside': 4, 'sign': 4, 'beginning': 4, 'shopping': 4, 'best': 4, 'gas': 4, 'feb': 4, 'respectively': 4, 'uk': 4, 'efficient': 4, 'middle': 4, 'shorties': 4, 'swung': 4, 'raised': 4, 'strong': 4, 'holding': 4, 'climb': 4, 'weekly': 4, 'continued': 4, 'project': 4, 'funny': 4, 'sky': 4, '09': 4, 'set': 4, 'dow': 4, 'patience': 4, 'king': 4, 'easy': 4, 'much': 4, 'yahoo': 4, 'america': 4, 'warren': 4, 'yesterday': 4, 'blast': 4, 'amazing': 4, '300': 4, 'good': 4, 'reverse': 4, 'join': 4, 'ignore': 4, 'stanley': 4, 'fund': 4, '205': 4, 'love': 4, 'town': 4, 'well': 4, 'recovery': 4, 'swing': 4, 'catalyst': 4, '25': 4, 'please': 4, 'asset': 4, 'amzn': 4, 'ensure': 4, 'buffet': 4, 'recommendation': 4, 'worry': 4, 'baby': 4, 'rate': 4, 'leading': 4, 'won': 4, 'percent': 4, 'remember': 4, 'truth': 4, '2000': 4, 'research': 4, 'setup': 4, 'hod': 4, 'visit': 4, 'imminent': 4, 'summer': 4, 'usa': 4, 'station': 4, 'did': 4, 'acquisition': 4, 'enjoy': 4, 'chance': 4, 'continue': 4, 'btmfd': 4, 'everything': 4, 'bringing': 4, 'machine': 4, 'destroy': 4, 'global': 4, 'cup': 4, '400': 4, 'pre': 4, 'teleste': 4, 'fud': 4, 'btfd': 4, 'through': 4, 'interesting': 4, 'epic': 4, '05': 4, 'old': 4, 'couldnt': 4, 'press': 4, 'show': 4, 'ice': 4, 'boom': 4, 'growing': 4, 'moon': 4, 'autonomous': 4, 'long': 4, 'announces': 4, 'other': 4, 'flip': 4, 'lift': 4, 'ripping': 4, 'february': 4, 'advantage': 4, 'reversal': 4, 'consensus': 4, 'saving': 4, 'wood': 4, 'service': 4, 'peak': 4, 'indian': 4, 'finish': 4, 'light': 4, 'transaction': 4, '63': 4, '2k': 4, '220s': 4, 'bill': 4, 'cheap': 4, 'use': 4, 'medium': 4, 'waiting': 4, 'bought': 4, 'clown': 4, 'saying': 4, '175': 4, 'special': 4, 'bigger': 4, 'name': 4, 'float': 4, 'world': 4, 'cause': 4, 'largest': 4, 'far': 4, '68': 4, 'beijing': 4, 'success': 4, 'quarterly': 4, 'self': 4, 'listen': 4, '244': 4, 'pleased': 4, 'game': 4, 'bullish': 4, 'pop': 4, '53': 4, 'breakout': 4, 'bit': 4, 'capacity': 4, 'elon': 4, 'biggest': 4, 'improve': 4, 'sec': 4, 'stronger': 4, 'congress': 4, 'winner': 4, 'healthy': 4, '28': 4, 'flat': 4, 'annual': 4, 'making': 4, '13': 4, 'cutting': 4, 'happen': -4, 'within': -4, 'ups': -4, 'chinese': -4, 'boat': -4, 'picked': -4, 'single': -4, 'shes': -4, 'realize': -4, 'putting': -4, '40': -4, 'insurance': -4, 'glad': -4, 'side': -4, 'short': -4, 'takeover': -4, 'internet': -4, 'screwed': -4, 'producer': -4, '15th': -4, 'not': -4, 'running': -4, 'cut': -4, 'standard': -4, 'iphones': -4, 'design': -4, 'leg': -4, 'financial': -4, 'based': -4, 'part': -4, 'nearly': -4, 'review': -4, 'version': -4, '12': -4, 'baltic': -4, 'fire': -4, 'till': -4, 'number': -4, 'wanna': -4, 'evening': -4, 'item': -4, 'clearly': -4, 'weve': -4, 'cat': -4, 'lt': -4, 'seriously': -4, 'idiot': -4, 'downgraded': -4, 'activity': -4, 'hike': -4, '06': -4, 'min': -4, 'during': -4, 'production': -4, 'recurring': -4, 'test': -4, 'barclays': -4, 'begin': -4, 'email': -4, 'goldman': -4, 'blue': -4, 'traded': -4, 'negative': -4, 'meat': -4, 'algos': -4, 'between': -4, 'job': -4, 'nasdaq': -4, 'laid': -4, 'coffee': -4, 'fake': -4, '42': -4, 'slowing': -4, 'vote': -4, '07': -4, 'source': -4, 'corp': -4, 'ta': -4, 'downtrend': -4, 'packaging': -4, 'result': -4, '92': -4, 'reached': -4, 'recent': -4, 'huya': -4, 'sound': -4, 'rest': -4, 'electronics': -4, 'developer': -4, 'march': -4, '222': -4, 'sma': -4, 'condition': -4, 'greedy': -4, 'starting': -4, 'hel': -4, 'recall': -4, 'house': -4, 'rather': -4, '48': -4, 'smaller': -4, 'buck': -4, 'eu': -4, 'hate': -4, 'lie': -4, 'leader': -4, 'amounted': -4, 'strike': -4, 'kid': -4, 'heavy': -4, 'dumping': -4, 'ship': -4, 'decline': -4, 'credit': -4, 'taking': -4, 'entered': -4, 'failed': -4, 'goog': -4, '150': -4, 'forget': -4, 'cannot': -4, 'sheet': -4, 'nvda': -4, 'seen': -4, '110': -4, 'turn': -4, 'question': -4, '49': -4, 'careful': -4, 'feeling': -4, '78': -4, '88': -4, 'whole': -4, 'while': -4, '197': -4, 'small': -4, 'shake': -4, 'capital': -4, 'due': -4, '700': -4, 'warning': -4, 'general': -4, '201': -4, 'poor': -4, 'issued': -4, 'worker': -4, 'thru': -4, 'cost': -4, '89': -4, 'roof': -4, 'word': -4, 'oh': -4, 'expect': -4, 'remain': -4, '59': -4, 'blood': -4, 'lay': -4, 'bell': -4, 'mr': -4, 'dream': -4, 'summit': -4, 'massive': -4, 'maybe': -4, 'ground': -4, '900': -4, 'premium': -4, 'north': -4, 'settle': -4, 'oct': -4, '221': -4, 'shell': -4, 'longs': -4, 'sub': -4, 'loss': -4, 'everybody': -4, 'jan': -4, 'falling': -4, 'trap': -4, 'retest': -4, 'q1': -4, '95': -4, 'entire': -4, 'fail': -4, 'diluted': -4, 'giving': -4, 'because': -4, '11': -4, 'headline': -4, 'don': -4, 'man': -4, 'person': -4, 'trust': -4, 'doesnt': -4, 'scanfil': -4, 'fun': -4, '155': -4, 'incoming': -4, '34': -4, 'temporarily': -4, 'paper': -4, 'die': -4, 'previously': -4, 'cult': -4, 'chief': -4, 'weak': -4, 'creating': -4, 'overbought': -4, '69': -4, 'hard': -4, 'reading': -4, 'bunch': -4, 'pulling': -4, 'total': -4, 'negotiation': -4, 'garbage': -4, 'moron': -4, '195': -4, 'near': -4, 'immediately': -4, 'being': -4, 'risk': -4, 'enough': -4, 'g20': -4, 'correction': -4, 'seat': -4, 'employee': -4, 'snap': -4, 'key': -4, 'shorting': -4, 'low': -4, 'yourself': -4, '120': -4, 'sorry': -4, 'economy': -4, 'ya': -4, 'havent': -4, 'offs': -4, 'slide': -4, 'shorted': -4, 'suv': -4, 'national': -4, 'further': -4, 'reduction': -4, 'decrease': -4, 'gone': -4, 'sell': -4, 'criminal': -4, 'wedge': -4, 'environment': -4, 'bubble': -4, 'pull': -4, 'caught': -4, 'insider': -4, 'musk': -4, 'staff': -4, 'broken': -4, 'downgrade': -4, 'wheel': -4, 'god': -4, 'ugly': -4, 'starbucks': -4, 'breakdown': -4, 'b4': -4, 'killed': -4, 'leave': -4, 'accounting': -4, 'recession': -4, 'bezos': -4, 'row': -4, 'dog': -4, 'under': -4, 'brought': -4, 'weakness': -4, 'temporary': -4, 'save': -4, '190': -4, '1000': -4, 'officially': -4, 'screen': -4, 'quite': -4, 'exit': -4, 'downside': -4, 'below': -4, 'trash': -4, 'tough': -4, 'plunge': -4, 'reality': -4, 'lost': -4, 'bull': -4, 'worst': -4, 'flush': -4, 'spy': -4, '160': -4, 'dumped': -4, 'case': -4, '150s': -4, 'red': -4, 'losing': -4, 'personnel': -4, 'dead': -4, 'douche': -4, '1800': -4, 'priced': -4, 'zero': -4, 'fraud': -4, 'change': -4, 'tank': -4, 'drop': -4, 'slipped': -4, 'po': -4, 'bearish': -4, 'worse': -4, 'debt': -4, 'crash': -4, 'dropping': -4, 'fade': -4, 'selloff': -4, 'down': -4, 'death': -4, 'put': -4, 'dropped': -4, 'lower': -4, 'scam': -4, 'overvalued': -4, 'declined': -4, 'fall': -4, 'dump': -4, 'fell': -4, 'decreased': -4}\n"
     ]
    }
   ],
   "source": [
    "#Dizionario per migliorare vader\n",
    "#La chiave sarà la parola e il valore sarà il punteggio assegnato\n",
    "new_words =  dict([([a,b]) for a,b in zip(df1['Parola'], df1['Punteggio'])])"
   ]
  },
  {
   "cell_type": "markdown",
   "metadata": {
    "id": "v2wVskCoIRHE"
   },
   "source": [
    "##Salvataggio Dizionario"
   ]
  },
  {
   "cell_type": "code",
   "execution_count": 103,
   "metadata": {
    "executionInfo": {
     "elapsed": 29,
     "status": "ok",
     "timestamp": 1653217098547,
     "user": {
      "displayName": "Luca Porcelli",
      "userId": "09580591037146988201"
     },
     "user_tz": -120
    },
    "id": "ffn8vUQhIUt-"
   },
   "outputs": [],
   "source": [
    "import json\n",
    "tf = open(filepath+\"dizionario/Dizionario_finance.json\", \"w\")\n",
    "json.dump(new_words,tf)\n",
    "tf.close()"
   ]
  }
 ],
 "metadata": {
  "colab": {
   "collapsed_sections": [],
   "name": "Assegno_pesi_parole.ipynb",
   "provenance": [
    {
     "file_id": "1nL2_mDeKiIiLcUwDmcmkazx9nEHr9ffh",
     "timestamp": 1650528767512
    }
   ]
  },
  "kernelspec": {
   "display_name": "Python 3",
   "language": "python",
   "name": "python3"
  },
  "language_info": {
   "codemirror_mode": {
    "name": "ipython",
    "version": 3
   },
   "file_extension": ".py",
   "mimetype": "text/x-python",
   "name": "python",
   "nbconvert_exporter": "python",
   "pygments_lexer": "ipython3",
   "version": "3.7.4"
  },
  "toc": {
   "base_numbering": 1,
   "nav_menu": {},
   "number_sections": true,
   "sideBar": true,
   "skip_h1_title": false,
   "title_cell": "Table of Contents",
   "title_sidebar": "Contents",
   "toc_cell": false,
   "toc_position": {
    "height": "calc(100% - 180px)",
    "left": "10px",
    "top": "150px",
    "width": "307.2px"
   },
   "toc_section_display": true,
   "toc_window_display": true
  }
 },
 "nbformat": 4,
 "nbformat_minor": 1
}
